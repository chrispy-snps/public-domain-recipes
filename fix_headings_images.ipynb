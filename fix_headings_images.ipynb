{
 "cells": [
  {
   "cell_type": "code",
   "execution_count": 1,
   "metadata": {},
   "outputs": [],
   "source": [
    "import glob\n",
    "files = glob.glob(\"content/*.md\")\n"
   ]
  },
  {
   "cell_type": "code",
   "execution_count": 11,
   "metadata": {},
   "outputs": [],
   "source": [
    "import re\n",
    "\n",
    "for file in files:\n",
    "    # read file as single string\n",
    "    with open(file, 'r') as f:\n",
    "        content = f.read()\n",
    "\n",
    "    title = re.findall(r'title:\\s+(.*)\\n', content)\n",
    "\n",
    "    if title:\n",
    "        title = title[0]\n",
    "        title = title.replace('\"', '')\n",
    "        content = re.sub(r\"---\\n\\n\", f\"---\\n\\n# {title}\\n\\n\", content)\n",
    "        content = re.sub(r\"/pix/\", f\"../static/pix/\", content)\n",
    "\n",
    "        # write file\n",
    "        with open(file, 'w') as f:\n",
    "            f.write(content)\n",
    "    else:\n",
    "        print(f\"Did not find title in {file}\")\n"
   ]
  }
 ],
 "metadata": {
  "kernelspec": {
   "display_name": "Python 3",
   "language": "python",
   "name": "python3"
  },
  "language_info": {
   "codemirror_mode": {
    "name": "ipython",
    "version": 3
   },
   "file_extension": ".py",
   "mimetype": "text/x-python",
   "name": "python",
   "nbconvert_exporter": "python",
   "pygments_lexer": "ipython3",
   "version": "3.10.12"
  }
 },
 "nbformat": 4,
 "nbformat_minor": 2
}
